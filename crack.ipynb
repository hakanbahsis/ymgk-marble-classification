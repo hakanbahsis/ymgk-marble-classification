{
 "cells": [
  {
   "cell_type": "code",
   "execution_count": 1,
   "id": "7d13ef9e",
   "metadata": {},
   "outputs": [],
   "source": [
    "import cv2\n",
    "import math\n",
    "import numpy as np\n",
    "import scipy.ndimage"
   ]
  },
  {
   "cell_type": "code",
   "execution_count": 2,
   "id": "99d13d5c",
   "metadata": {},
   "outputs": [],
   "source": [
    "def orientated_non_max_suppression(mag, ang):\n",
    "    ang_quant = np.round(ang / (np.pi / 4)) % 4\n",
    "    winE = np.array([[0, 0, 0], [1, 1, 1], [0, 0, 0]])\n",
    "    winSE = np.array([[1, 0, 0], [0, 1, 0], [0, 0, 1]])\n",
    "    winS = np.array([[0, 1, 0], [0, 1, 0], [0, 1, 0]])\n",
    "    winSW = np.array([[0, 0, 1], [0, 1, 0], [1, 0, 0]])\n",
    "\n",
    "    magE = non_max_suppression(mag, winE)\n",
    "    magSE = non_max_suppression(mag, winSE)\n",
    "    magS = non_max_suppression(mag, winS)\n",
    "    magSW = non_max_suppression(mag, winSW)\n",
    "\n",
    "    mag[ang_quant == 0] = magE[ang_quant == 0]\n",
    "    mag[ang_quant == 1] = magSE[ang_quant == 1]\n",
    "    mag[ang_quant == 2] = magS[ang_quant == 2]\n",
    "    mag[ang_quant == 3] = magSW[ang_quant == 3]\n",
    "    return mag"
   ]
  },
  {
   "cell_type": "code",
   "execution_count": 3,
   "id": "1788f1a7",
   "metadata": {},
   "outputs": [],
   "source": [
    "def non_max_suppression(data, win):\n",
    "    data_max = scipy.ndimage.filters.maximum_filter(data, footprint=win, mode='constant')\n",
    "    data_max[data != data_max] = 0\n",
    "    return data_max"
   ]
  },
  {
   "cell_type": "code",
   "execution_count": 4,
   "id": "6504df6f",
   "metadata": {},
   "outputs": [],
   "source": [
    "# start calulcation\n",
    "gray_image = cv2.imread('images/Diamond.jpeg', 0)"
   ]
  },
  {
   "cell_type": "code",
   "execution_count": 5,
   "id": "7cb22e5a",
   "metadata": {},
   "outputs": [],
   "source": [
    "with_nmsup = True  # apply non-maximal suppression\n",
    "fudgefactor = 1.3  # with this threshold you can play a little bit\n",
    "sigma = 21  # for Gaussian Kernel\n",
    "kernel = 2 * math.ceil(2 * sigma) + 1  # Kernel size"
   ]
  },
  {
   "cell_type": "code",
   "execution_count": 6,
   "id": "5a00259f",
   "metadata": {},
   "outputs": [],
   "source": [
    "gray_image = gray_image / 255.0\n",
    "blur = cv2.GaussianBlur(gray_image, (kernel, kernel), sigma)\n",
    "gray_image = cv2.subtract(gray_image, blur)"
   ]
  },
  {
   "cell_type": "code",
   "execution_count": 7,
   "id": "44a5eaf6",
   "metadata": {},
   "outputs": [],
   "source": [
    "# compute sobel response\n",
    "sobelx = cv2.Sobel(gray_image, cv2.CV_64F, 1, 0, ksize=3)\n",
    "sobely = cv2.Sobel(gray_image, cv2.CV_64F, 0, 1, ksize=3)\n",
    "mag = np.hypot(sobelx, sobely)\n",
    "ang = np.arctan2(sobely, sobelx)\n"
   ]
  },
  {
   "cell_type": "code",
   "execution_count": 8,
   "id": "560b8f50",
   "metadata": {},
   "outputs": [],
   "source": [
    "# threshold\n",
    "threshold = 4 * fudgefactor * np.mean(mag)\n",
    "mag[mag < threshold] = 0\n"
   ]
  },
  {
   "cell_type": "code",
   "execution_count": 9,
   "id": "ab61982b",
   "metadata": {},
   "outputs": [],
   "source": [
    "# either get edges directly\n",
    "if with_nmsup is False:\n",
    "    mag = cv2.normalize(mag, 0, 255, cv2.NORM_MINMAX)\n",
    "    kernel = np.ones((5, 5), np.uint8)\n",
    "    result = cv2.morphologyEx(mag, cv2.MORPH_CLOSE, kernel)\n",
    "    cv2.imshow('im', result)\n",
    "    cv2.waitKey()\n",
    "# or apply a non-maximal suppression\n",
    "else:\n",
    "\n",
    "    # non-maximal suppression\n",
    "    mag = orientated_non_max_suppression(mag, ang)\n",
    "    # create mask\n",
    "    mag[mag > 0] = 255\n",
    "    mag = mag.astype(np.uint8)\n",
    "\n",
    "    kernel = np.ones((5, 5), np.uint8)\n",
    "    result = cv2.morphologyEx(mag, cv2.MORPH_CLOSE, kernel)\n",
    "\n",
    "    cv2.imshow('im', result)\n",
    "    cv2.waitKey()\n"
   ]
  },
  {
   "cell_type": "code",
   "execution_count": null,
   "id": "a15e0881",
   "metadata": {},
   "outputs": [],
   "source": []
  }
 ],
 "metadata": {
  "kernelspec": {
   "display_name": "Python 3 (ipykernel)",
   "language": "python",
   "name": "python3"
  },
  "language_info": {
   "codemirror_mode": {
    "name": "ipython",
    "version": 3
   },
   "file_extension": ".py",
   "mimetype": "text/x-python",
   "name": "python",
   "nbconvert_exporter": "python",
   "pygments_lexer": "ipython3",
   "version": "3.9.12"
  }
 },
 "nbformat": 4,
 "nbformat_minor": 5
}

{
 "cells": [
  {
   "cell_type": "code",
   "execution_count": 1,
   "id": "02492d28",
   "metadata": {},
   "outputs": [],
   "source": [
    "# find homogeneous parts in the picture\n",
    "# and display them in different colors\n",
    "\n",
    "\n",
    "import cv2\n",
    "import numpy as np\n",
    "import matplotlib.pyplot as plt"
   ]
  },
  {
   "cell_type": "code",
   "execution_count": null,
   "id": "ea5f9554",
   "metadata": {},
   "outputs": [],
   "source": [
    "img_path = \"images/mermer-elazig-visne.jpg\"\n",
    "\n",
    "img = cv2.imread(img_path)"
   ]
  }
 ],
 "metadata": {
  "kernelspec": {
   "display_name": "Python 3 (ipykernel)",
   "language": "python",
   "name": "python3"
  },
  "language_info": {
   "codemirror_mode": {
    "name": "ipython",
    "version": 3
   },
   "file_extension": ".py",
   "mimetype": "text/x-python",
   "name": "python",
   "nbconvert_exporter": "python",
   "pygments_lexer": "ipython3",
   "version": "3.9.12"
  }
 },
 "nbformat": 4,
 "nbformat_minor": 5
}
